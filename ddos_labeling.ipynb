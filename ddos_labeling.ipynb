{
 "cells": [
  {
   "cell_type": "markdown",
   "metadata": {},
   "source": [
    "### For  Online version (with python -m CGIHTTPServer or apache)\n",
    "- For this option you must to place exported \"ddos_labeling.py\" into the the folder \"frontend/cgi-bin/\". \n",
    "- Once exported you must to open and remove the comments ('#' in the head of the file);\n",
    "- You must to make the script executable via \"chmod +x ddos_labeling.py\"\n",
    "- After that you must to run the  into a server (ex. Apache). \n",
    "    - The simplest way to test is using python -m CGIHTTPServer"
   ]
  },
  {
   "cell_type": "code",
   "execution_count": null,
   "metadata": {
    "collapsed": false
   },
   "outputs": [],
   "source": [
    "# #!/usr/bin/env python\n",
    "# import cgi\n",
    "# import cgitb; cgitb.enable()\n",
    "# import os, sys\n",
    "\n",
    "# threshold=100\n",
    "\n",
    "# print \"Content-Type: text/html\\n\"\n",
    "\n",
    "# upload_dir = \"../testedfiles\"\n",
    "\n",
    "# form = cgi.FieldStorage()\n",
    "    \n",
    "# if not form.has_key(\"inputfile\") and not form[\"inputfile\"].file:\n",
    "#     sys.exit()\n",
    "    \n",
    "\n",
    "# fileitem = form[\"inputfile\"]\n",
    "\n",
    "# ######\n",
    "# #Copying the original file\n",
    "# copiedfile = file (os.path.join(upload_dir, fileitem.filename), 'wb')\n",
    "# while 1:\n",
    "#     chunk = fileitem.file.read(100000)\n",
    "#     if not chunk: break\n",
    "#     copiedfile.write (chunk)\n",
    "# copiedfile.close()\n",
    "\n",
    "# #####\n",
    "# # Starting the classification process\n",
    "# input_file = os.path.join(upload_dir, fileitem.filename)\n",
    "\n",
    "# enrichment_folder = '../enrichments/'"
   ]
  },
  {
   "cell_type": "markdown",
   "metadata": {},
   "source": [
    "### For python script (instead of ipython) "
   ]
  },
  {
   "cell_type": "code",
   "execution_count": 1,
   "metadata": {
    "collapsed": false
   },
   "outputs": [],
   "source": [
    "# import sys\n",
    "\n",
    "# if __name__ == '__main__':\n",
    "#     if len(sys.argv) < 2:\n",
    "#         print 'usage: python %s <input_file>' % (sys.argv[0])\n",
    "#         sys.exit(2)\n",
    "\n",
    "#     input_file = sys.argv[1]\n",
    "#     debug=False\n",
    "# enrichment_folder = 'enrichments/'"
   ]
  },
  {
   "cell_type": "markdown",
   "metadata": {},
   "source": [
    "### For Jupyter Notebook (instead of python script) "
   ]
  },
  {
   "cell_type": "code",
   "execution_count": 26,
   "metadata": {
    "collapsed": true
   },
   "outputs": [],
   "source": [
    "input_file='../attacks/ANON/ANON-XML-S-01_2014-12-29_09_12_44.pcap'\n",
    "threshold=100\n",
    "debug=False\n",
    "\n",
    "import warnings\n",
    "warnings.filterwarnings('ignore')\n",
    "enrichment_folder = 'enrichments/'"
   ]
  },
  {
   "cell_type": "markdown",
   "metadata": {},
   "source": [
    "<h2 align='center'>==========================================================<br>\n",
    "Debug or not Debug?!</h2>"
   ]
  },
  {
   "cell_type": "code",
   "execution_count": 27,
   "metadata": {
    "collapsed": true
   },
   "outputs": [],
   "source": [
    "debug=True"
   ]
  },
  {
   "cell_type": "markdown",
   "metadata": {},
   "source": [
    "<h2 align='center'>==========================================================<br>\n",
    "Needed libraries for data analysis</h2>"
   ]
  },
  {
   "cell_type": "code",
   "execution_count": 28,
   "metadata": {
    "collapsed": true
   },
   "outputs": [],
   "source": [
    "import pandas as pd #more info at http://pandas.pydata.org/\n",
    "import numpy as np #more info at http://www.numpy.org/"
   ]
  },
  {
   "cell_type": "markdown",
   "metadata": {},
   "source": [
    "<h2 align='center'>==========================================================<br>\n",
    "Getting the size of the input (raw) file (in bytes)</h2>"
   ]
  },
  {
   "cell_type": "code",
   "execution_count": 29,
   "metadata": {
    "collapsed": false
   },
   "outputs": [
    {
     "name": "stdout",
     "output_type": "stream",
     "text": [
      "File size: 7662859 Bytes\n"
     ]
    }
   ],
   "source": [
    "#Saving the file size in bytes!\n",
    "import os\n",
    "raw_input_size=os.stat(input_file).st_size\n",
    "\n",
    "if debug: print(\"File size: \"+str(raw_input_size)+\" Bytes\")"
   ]
  },
  {
   "cell_type": "markdown",
   "metadata": {
    "collapsed": false
   },
   "source": [
    "<h2 align='center'>==========================================================<br>\n",
    "Converting the input file (using dpkt and python 2.7)</h2>"
   ]
  },
  {
   "cell_type": "code",
   "execution_count": 30,
   "metadata": {
    "collapsed": false
   },
   "outputs": [
    {
     "name": "stdout",
     "output_type": "stream",
     "text": [
      "Input: ../attacks/ANON/ANON-XML-S-01_2014-12-29_09_12_44.pcap\n",
      "Threshold[%]: 100\n",
      "Output: ../attacks/ANON/ANON-XML-S-01_2014-12-29_09_12_44.txt\n"
     ]
    }
   ],
   "source": [
    "import time\n",
    "time0 = time.time()\n",
    "\n",
    "import argparse\n",
    "import dpkt\n",
    "import socket\n",
    "import os\n",
    "\n",
    "if debug: print(\"Input: \"+input_file)\n",
    "if debug: print(\"Threshold[%]: \"+str(threshold))\n",
    "\n",
    "####\n",
    "#Preparing output file (considering the input file a complet path or a symbolic path)\n",
    "if input_file.startswith(\"../\"):\n",
    "    output_file=\"..\"+input_file.split('.')[2]+\".txt\" \n",
    "else:\n",
    "    output_file=input_file.split('.')[0]+\".txt\"\n",
    "\n",
    "outputfile = open(output_file,'w')\n",
    "\n",
    "inputfile = open(input_file)\n",
    "pcapfile = dpkt.pcap.Reader(inputfile)\n",
    "\n",
    "for ts, buf in pcapfile:\n",
    "    eth = dpkt.ethernet.Ethernet(buf)\n",
    "\n",
    "    #FILTERING ONLY FOR IPv4 instead of packets ARP or IPv6\n",
    "    if eth.type == dpkt.ethernet.ETH_TYPE_IP:\n",
    "        ip = eth.data #Loading the content of the ethernet into a variable 'ip'\n",
    "        \n",
    "        timestamp = ts #1\n",
    "        ip_ttl = ip.ttl #2\n",
    "        \n",
    "        ip_proto = ip.p #3\n",
    "        sport = \"\"\n",
    "        dport= \"\"\n",
    "        tcp_flag =\"\"\n",
    "        http_request_method=\"\"\n",
    "        if (ip_proto != 6) and (ip_proto != 17): #It is not TCP or UDP\n",
    "            continue\n",
    "            \n",
    "        ip_length = ip.len #4\n",
    "        ip_src = socket.inet_ntoa(ip.src) #5\n",
    "        ip_dst = socket.inet_ntoa(ip.dst) #6\n",
    "        \n",
    "        try: proto = ip.data #Loading the content of the 'ip' into a variable 'protocol' that can be for example ICMP, TCP, and UDP.\n",
    "        except:\n",
    "            continue\n",
    "        \n",
    "        sport = proto.sport #7\n",
    "        dport = proto.dport #8\n",
    "\n",
    "\n",
    "        if ip.p == 6 :\n",
    "            try:\n",
    "                tcp_flag += (\"F\" if (int( proto.flags & dpkt.tcp.TH_FIN ) != 0) else \".\") #27\n",
    "                tcp_flag += (\"S\" if (int( proto.flags & dpkt.tcp.TH_SYN ) != 0) else \".\") #26\n",
    "                tcp_flag += (\"R\" if (int( proto.flags & dpkt.tcp.TH_RST ) != 0) else \".\") #25\n",
    "                tcp_flag += (\"P\" if (int( proto.flags & dpkt.tcp.TH_PUSH) != 0) else \".\") #24\n",
    "                tcp_flag += (\"A\" if (int( proto.flags & dpkt.tcp.TH_ACK ) != 0) else \".\") #23\n",
    "                tcp_flag += (\"U\" if (int( proto.flags & dpkt.tcp.TH_URG ) != 0) else \".\") #22\n",
    "                tcp_flag += (\"E\" if (int( proto.flags & dpkt.tcp.TH_ECE ) != 0) else \".\") #21\n",
    "                tcp_flag += (\"C\" if (int( proto.flags & dpkt.tcp.TH_CWR ) != 0) else \".\") #20\n",
    "            except:\n",
    "                print \"EXCEPTION TCP FLAG\"  if debug else next\n",
    "\n",
    "            if (proto.dport == 80) or (proto.dport == 443):\n",
    "                    if proto.data == '':\n",
    "                        http_request_method=''\n",
    "                    else:\n",
    "                        try:\n",
    "                            http_request_method = dpkt.http.Request(proto.data).method\n",
    "                        except:\n",
    "                            http_request_method = ''\n",
    "\n",
    "            \n",
    "        fragments = 1 if (int(ip.off & dpkt.ip.IP_MF)!= 0) else 0  #8 This flag is set to a 1 for all fragments except the last one            \n",
    "\n",
    "        print >> outputfile,\\\n",
    "        str(ip_ttl)+';'+\\\n",
    "        str(ip_proto)+';'+\\\n",
    "        str(ip_length)+';'+\\\n",
    "        str(ip_src)+';'+\\\n",
    "        str(ip_dst)+';'+\\\n",
    "        str(sport)+';'+\\\n",
    "        str(dport)+';'+\\\n",
    "        str(tcp_flag)+';'+\\\n",
    "        str(fragments)+';'+\\\n",
    "        str(http_request_method)\n",
    "        #         str(timestamp)+';'+\\\n",
    "\n",
    "####\n",
    "#Saving the conversion time\n",
    "conversion_time = time.time() - time0\n",
    "\n",
    "if debug: print(\"Output: \"+output_file)"
   ]
  },
  {
   "cell_type": "markdown",
   "metadata": {},
   "source": [
    "<h2 align='center'>==========================================================<br>\n",
    "Loading the converted input trace into</h2>"
   ]
  },
  {
   "cell_type": "code",
   "execution_count": 31,
   "metadata": {
    "collapsed": false
   },
   "outputs": [],
   "source": [
    "time0 = time.time()\n",
    "\n",
    "####\n",
    "#Defining the same order as in the converted data (Note that I removed the timestamp because in the current\n",
    "#version this information is not added)\n",
    "columns=[\n",
    "#     'timestamp',\\\n",
    "         'ip_ttl',\\\n",
    "         'ip_proto',\\\n",
    "         'ip_length',\\\n",
    "         'ip_src',\\\n",
    "         'ip_dst',\\\n",
    "         'sport',\\\n",
    "         'dport',\\\n",
    "         'tcp_flag',\\\n",
    "         'fragments',\\\n",
    "         'http_data']\n",
    "\n",
    "####\n",
    "#Loading the converted data into a csv\n",
    "df = pd.read_csv(output_file,delimiter=\";\", names=columns,low_memory=False)\n",
    "\n",
    "total_packets=len(df)\n",
    "####\n",
    "#Saving the loading time\n",
    "loading_time=time.time() - time0"
   ]
  },
  {
   "cell_type": "markdown",
   "metadata": {},
   "source": [
    "<h2 align='center'>==========================================================<br>\n",
    "Functions to enrich the analysis (e.g., convert a protocol or port number in name) </h2>"
   ]
  },
  {
   "cell_type": "code",
   "execution_count": 32,
   "metadata": {
    "collapsed": false
   },
   "outputs": [],
   "source": [
    "df_port_name = pd.read_csv(enrichment_folder+'port_name.txt',delimiter=\",\", names=['port_num','port_name'])\n",
    "df_ip_proto_name = pd.read_csv(enrichment_folder+'ip_proto_name.txt',delimiter=\",\", names=['proto_num','proto_name'])\n",
    "    \n",
    "def get_ip_proto_name(ip_proto_number):\n",
    "    try:\n",
    "        return df_ip_proto_name[df_ip_proto_name['proto_num']==ip_proto_number]['proto_name'].values[0]\n",
    "    except:\n",
    "        return str(ip_proto_number)\n",
    "    \n",
    "def get_port_name(port_number):\n",
    "    try:\n",
    "        return df_port_name[df_port_name['port_num']==port_number]['port_name'].values[0]+\" service port\"\n",
    "    except:\n",
    "        return \"port \"+str(int(port_number))\n",
    "    \n",
    "def get_tcp_flag_name(tcp_flags_str):\n",
    "    tcp_flags=\"\"\n",
    "    try:\n",
    "        tcp_flags += (\"FIN\" if (tcp_flags_str.find('F') != -1) else next) \n",
    "    except:\n",
    "        next\n",
    "    try:\n",
    "        tcp_flags += (\"SYN\" if (tcp_flags_str.find('S')!= -1) else next) \n",
    "    except:\n",
    "        next\n",
    "        \n",
    "    try:\n",
    "        tcp_flags += (\"RST\" if tcp_flags_str.find('R') != -1 else next)\n",
    "    except:\n",
    "        next\n",
    "        \n",
    "    try:\n",
    "        tcp_flags += (\"PUSH\" if tcp_flags_str.find('P') != -1 else next) \n",
    "    except:\n",
    "        next\n",
    "        \n",
    "    try:\n",
    "        tcp_flags += (\"ACK\" if tcp_flags_str.find('A') != -1 else next)\n",
    "    except:\n",
    "        next\n",
    "        \n",
    "    try:\n",
    "        tcp_flags += (\"URG\" if tcp_flags_str.find('U') != -1 else next) \n",
    "    except:\n",
    "        next\n",
    "        \n",
    "    try:\n",
    "        tcp_flags += (\"ECE\" if tcp_flags_str.find('E') != -1 else next)\n",
    "    except:\n",
    "        next\n",
    "        \n",
    "    try:\n",
    "        tcp_flags += (\"CWR\" if tcp_flags_str.find('C') != -1 else next)\n",
    "    except:\n",
    "        next\n",
    "   \n",
    "        \n",
    "    return tcp_flags      "
   ]
  },
  {
   "cell_type": "markdown",
   "metadata": {},
   "source": [
    "<h2 align='center'>====================================================================<br>\n",
    "Determining the target and the IP protocol used in the attack</h2>"
   ]
  },
  {
   "cell_type": "code",
   "execution_count": 35,
   "metadata": {
    "collapsed": false
   },
   "outputs": [
    {
     "name": "stdout",
     "output_type": "stream",
     "text": [
      "Total packets: 28055\n",
      "Top dst IP: 172.31.28.132\n",
      "Top IP protocol: 6\n",
      "Number of packets (after filter): 12958\n"
     ]
    }
   ],
   "source": [
    "time0 = time.time()\n",
    "\n",
    "total_packets=len(df)\n",
    "if debug: print(\"Total packets: \"+ str(total_packets))\n",
    "\n",
    "top_ip_dst = df['ip_dst'].value_counts().index[0]\n",
    "if debug: print(\"Top dst IP: \"+ top_ip_dst)\n",
    "\n",
    "top_ip_proto = df[df['ip_dst']==top_ip_dst]['ip_proto'].value_counts().index[0]\n",
    "if debug: print(\"Top IP protocol: \"+str(top_ip_proto)) \n",
    "\n",
    "####\n",
    "#Performing a first filter based on the top_ip_dst (target IP), the source IPs canNOT be from the \\16 of the\n",
    "#target IP, and the top IP protocol that targeted the top_ip_dst\n",
    "df_filtered=df[(df['ip_dst']==top_ip_dst) &\\\n",
    "              ~df['ip_src'].str.contains(\".\".join(top_ip_dst.split('.')[0:2]),na=False) &\\\n",
    "              (df['ip_proto'] == top_ip_proto)]\n",
    "\n",
    "####\n",
    "#Calculating the number of packets after the first filter\n",
    "total_packets_filtered = len(df_filtered)\n",
    "if debug: print(\"Number of packets (after filter): \"+str(total_packets_filtered))"
   ]
  },
  {
   "cell_type": "markdown",
   "metadata": {},
   "source": [
    "<h2 align='center'>====================================================================<br>\n",
    "Defining the attack trace to be classified and <br>calculate some statistics to be use in the classification</h2>"
   ]
  },
  {
   "cell_type": "code",
   "execution_count": 36,
   "metadata": {
    "collapsed": false
   },
   "outputs": [
    {
     "name": "stdout",
     "output_type": "stream",
     "text": [
      "\n",
      "####################\n",
      "ANALYSIS:\n",
      "####################\n",
      "\n",
      "Source ports frequency\n",
      "58236.0    0.131193\n",
      "53297.0    0.115759\n",
      "56722.0    0.108041\n",
      "42834.0    0.108041\n",
      "41461.0    0.108041\n",
      "Name: sport, dtype: float64\n",
      "\n",
      "Destination ports frequency\n",
      "80.0      99.992283\n",
      "3128.0     0.007717\n",
      "Name: dport, dtype: float64\n",
      "\n",
      "####################\n",
      "PATTERN 0\n",
      "####################\n",
      "\n",
      "Source ports frequency\n",
      "58236.0    0.131203\n",
      "53297.0    0.115768\n",
      "56722.0    0.108050\n",
      "42834.0    0.108050\n",
      "41461.0    0.108050\n",
      "Name: sport, dtype: float64\n",
      "\n",
      "Destination ports frequency\n",
      "80.0    100.0\n",
      "Name: dport, dtype: float64\n",
      "\n",
      "CASE 3: 1 source port to a set of destination ports\n",
      "../attacks/ANON/ANON-XML-S-01_2014-12-29_09_12_44.pcap; In 99.99% of packets targeting 172.31.28.132; TCP-based attack; involving 1912 IP(s); using a set of (2053) ports, such as port 58236[0.13%], port 53297[0.12%], port 56722[0.11%]; and port 42834[0.11%]; to target HTTP service port[100.0%]; GET; (likely involving) spoofed IPs\n",
      "\n",
      "####################\n",
      "ANALYSIS:\n",
      "####################\n",
      "\n",
      "Source ports frequency\n",
      "6000.0    0.007717\n",
      "Name: sport, dtype: float64\n",
      "\n",
      "Destination ports frequency\n",
      "3128.0    0.007717\n",
      "Name: dport, dtype: float64\n",
      "\n",
      "####################\n",
      "PATTERN 1\n",
      "####################\n",
      "\n",
      "Source ports frequency\n",
      "6000.0    100.0\n",
      "Name: sport, dtype: float64\n",
      "\n",
      "Destination ports frequency\n",
      "3128.0    100.0\n",
      "Name: dport, dtype: float64\n",
      "\n",
      "CASE 1: 1 source port to 1 destination port\n",
      "../attacks/ANON/ANON-XML-S-01_2014-12-29_09_12_44.pcap; In 0.01% of packets targeting 172.31.28.132; TCP-based attack; involving 1 IP(s); using port 6000; to target port 3128[100.0%]; TCP flags: SYN[100.0%]; Reflection & Amplification\n"
     ]
    }
   ],
   "source": [
    "attack_case=\"-1\"\n",
    "ttl_variation_threshold=4\n",
    "no_attack_found=False\n",
    "time0 = time.time()\n",
    "\n",
    "#####\n",
    "# ASSUMPTION: DDoS attack is a high concentration of packets with same characteristics (pattern)\n",
    "\n",
    "traffic_patterns=[]\n",
    "i=0\n",
    "\n",
    "while (len(df_filtered)>0):\n",
    "    ####\n",
    "    # For attacks in the IP protocol level\n",
    "    attack_label = get_ip_proto_name(top_ip_proto)+\"-based attack\"    \n",
    "    \n",
    "    ####\n",
    "    # For attacks based on TCP or UDP, which have source and destination ports\n",
    "    if ((top_ip_proto == 6) or (top_ip_proto == 17)):     \n",
    "        \n",
    "        if debug: print(\"\\n####################\\nANALYSIS:\\n####################\")\n",
    "        ####\n",
    "        #Calculating the distribution of source ports based on the first filter\n",
    "        percent_src_ports = df_filtered['sport'].value_counts().divide(float(total_packets_filtered)/100)\n",
    "        if debug: print(\"\\nSource ports frequency\")\n",
    "        if debug: print(percent_src_ports.head())\n",
    "\n",
    "        ####\n",
    "        #Calculating the distribution of destination ports after the first filter\n",
    "        percent_dst_ports = df_filtered['dport'].value_counts().divide(float(total_packets_filtered)/100)\n",
    "        if debug: print(\"\\nDestination ports frequency\") \n",
    "        if debug: print(percent_dst_ports.head()) \n",
    "\n",
    "        #####\n",
    "        # Using the top 1 (source or destination) port to analyse a pattern of packets\n",
    "        if (len(percent_src_ports) >0) and (len(percent_dst_ports)>0) :\n",
    "            if percent_src_ports.values[0] > percent_dst_ports.values[0]:\n",
    "                df_pattern = df_filtered[df_filtered['sport']==percent_src_ports.keys()[0]]\n",
    "            else:\n",
    "                df_pattern = df_filtered[df_filtered['dport']==percent_dst_ports.keys()[0]] \n",
    "        else:\n",
    "            break\n",
    "            \n",
    "        if debug: print(\"\\n####################\\nPATTERN \"+str(i)+\"\\n####################\")\n",
    "\n",
    "        #####    \n",
    "        #Calculating the total number of packets involved in the attack\n",
    "        pattern_packets = len(df_pattern)\n",
    "\n",
    "        #####    \n",
    "        #Calculating the percentage of the current pattern compared to the raw input file\n",
    "        representativeness = float(pattern_packets)*100/float(total_packets_filtered)\n",
    "        attack_label = input_file+'; In %.2f' % representativeness+\"% of packets targeting \"+top_ip_dst+\"; \"+ attack_label\n",
    "\n",
    "        #####\n",
    "        # Checking the existence of HTTP data\n",
    "        http_data = df_pattern['http_data'].value_counts().divide(float(pattern_packets)/100)\n",
    "\n",
    "        #####\n",
    "        # Checking the existence of TCP flags\n",
    "        percent_tcp_flags = df_pattern['tcp_flag'].value_counts().divide(float(pattern_packets)/100)\n",
    "\n",
    "        #####\n",
    "        # Calculating the number of source IPs involved in the attack\n",
    "        ips_involved= len(df_pattern['ip_src'].unique())\n",
    "        attack_label = attack_label +\"; involving \"+str(ips_involved)+ \" IP(s)\"\n",
    "\n",
    "        ####\n",
    "        #Calculating the distribution of TTL variation (variation -> number of IPs)\n",
    "        ttl_variations = df_pattern.groupby(['ip_src'])['ip_ttl'].agg(np.ptp).value_counts().sort_index()\n",
    "\n",
    "        ####\n",
    "        #Calculating the distribution of IP fragments (fragmented -> percentage of packets)\n",
    "        percent_fragments = df_pattern['fragments'].value_counts().divide(float(pattern_packets)/100)    \n",
    "\n",
    "        ####\n",
    "        #Calculating the distribution of source ports that remains\n",
    "        percent_src_ports = df_pattern['sport'].value_counts().divide(float(pattern_packets)/100)\n",
    "        if debug: print(\"\\nSource ports frequency\") \n",
    "        if debug: print(percent_src_ports.head()) \n",
    "\n",
    "        ####\n",
    "        #Calculating the distribution of destination ports after the first filter\n",
    "        percent_dst_ports = df_pattern['dport'].value_counts().divide(float(pattern_packets)/100)\n",
    "        if debug: print(\"\\nDestination ports frequency\")\n",
    "        if debug: print(percent_dst_ports.head()) \n",
    "            \n",
    "        ####                                                              \n",
    "        # There are 3 possibilities of attacks cases!                                                                     \n",
    "        if (percent_src_ports.values[0]==100):\n",
    "            if (len(percent_dst_ports)==1):\n",
    "                if debug: print(\"\\nCASE 1: 1 source port to 1 destination port\") if debug else next\n",
    "                attack_label = attack_label+\"; using \"+get_port_name(percent_src_ports.keys()[0])+\\\n",
    "                                                \"; to target \"+get_port_name(percent_dst_ports.keys()[0])+\"[\"+'%.1f' % percent_dst_ports.values[0]+\"%]\" \n",
    "            else:\n",
    "                if debug: print(\"\\nCASE 2: 1 source port to a set of destination ports\") if debug else next    \n",
    "                if (percent_dst_ports.values[0] >= 50 ):\n",
    "                    attack_label = attack_label+\"; using \"+get_port_name(percent_src_ports.keys()[0])+\\\n",
    "                                            \"; to target a set of (\"+str(len(percent_dst_ports))+\") ports, such as \"+get_port_name(percent_dst_ports.keys()[0])+\"[\"+'%.2f' % percent_dst_ports.values[0]+\"%]\"+\" and \"+get_port_name(percent_dst_ports.keys()[1])+\"[\"+'%.2f' % percent_dst_ports.values[1]+\"%]\"\n",
    "                elif (percent_dst_ports.values[0] >= 33 ):\n",
    "                    attack_label = attack_label+\"; using \"+get_port_name(percent_src_ports.keys()[0])+\\\n",
    "                                                    \"; to target a set of (\"+str(len(percent_dst_ports))+\") ports, such as \"+get_port_name(percent_dst_ports.keys()[0])+\"[\"+'%.2f' % percent_dst_ports.values[0]+\"%]\"+\", \"+get_port_name(percent_dst_ports.keys()[1])+\"[\"+'%.2f' % percent_dst_ports.values[1]+\"%], and \"+get_port_name(percent_dst_ports.keys()[2])+\"[\"+'%.2f' % percent_dst_ports.values[2]+\"%]\"\n",
    "                else:\n",
    "                    attack_label = attack_label+\"; using \"+get_port_name(percent_src_ports.keys()[0])+\\\n",
    "                                                    \"; to target a set of (\"+str(len(percent_dst_ports))+\") ports, such as \"+get_port_name(percent_dst_ports.keys()[0])+\"[\"+'%.2f' % percent_dst_ports.values[0]+\"%]\"+\", \"+get_port_name(percent_dst_ports.keys()[1])+\"[\"+'%.2f' % percent_dst_ports.values[1]+\"%], and \"+get_port_name(percent_dst_ports.keys()[2])+\"[\"+'%.2f' % percent_dst_ports.values[2]+\"%]\"    \n",
    "        else:\n",
    "            if (len(percent_src_ports)==1):\n",
    "                if debug: print(\"\\nCASE 1: 1 source port to 1 destination port\") if debug else next\n",
    "                attack_label = attack_label+\"; using \"+get_port_name(percent_src_ports.keys()[0])+\"[\"+'%.1f' % percent_src_ports.values[0]+\"%]\"+\\\n",
    "                                                \"; to target \"+get_port_name(percent_dst_ports.keys()[0])+\"[\"+'%.1f' % percent_dst_ports.values[0]+\"%]\" \n",
    "\n",
    "            else:\n",
    "                if debug: print(\"\\nCASE 3: 1 source port to a set of destination ports\") if debug else next\n",
    "                if (percent_src_ports.values[0] >= 50 ):\n",
    "                    attack_label = attack_label+\"; using a set of (\"+str(len(percent_src_ports))+\") ports, such as \"+get_port_name(percent_src_ports.keys()[0])+\"[\"+'%.2f' % percent_src_ports.values[0]+\"%] and \"+get_port_name(percent_src_ports.keys()[1])+\"[\"+'%.2f' % percent_src_ports.values[1]+\"%]\"+\\\n",
    "                                                \"; to target \"+get_port_name(percent_dst_ports.keys()[0])+\"[\"+'%.1f' % percent_dst_ports.values[0]+\"%]\"\n",
    "                elif (percent_src_ports.values[0] >= 33 ):\n",
    "                    attack_label = attack_label+\"; using a set of (\"+str(len(percent_src_ports))+\") ports, such as \"+get_port_name(percent_src_ports.keys()[0])+\"[\"+'%.2f' % percent_src_ports.values[0]+\"%], \"+get_port_name(percent_src_ports.keys()[1])+\"[\"+'%.2f' % percent_src_ports.values[1]+\"%], and \"+get_port_name(percent_src_ports.keys()[2])+\"[\"+'%.2f' % percent_src_ports.values[2]+\"%]\"+\\\n",
    "                                                \"; to target \"+get_port_name(percent_dst_ports.keys()[0])+\"[\"+'%.1f' % percent_dst_ports.values[0]+\"%]\"\n",
    "                else:\n",
    "                    attack_label = attack_label+\"; using a set of (\"+str(len(percent_src_ports))+\") ports, such as \"+get_port_name(percent_src_ports.keys()[0])+\"[\"+'%.2f' % percent_src_ports.values[0]+\"%], \"+get_port_name(percent_src_ports.keys()[1])+\"[\"+'%.2f' % percent_src_ports.values[1]+\"%], \"+get_port_name(percent_src_ports.keys()[2])+\"[\"+'%.2f' % percent_src_ports.values[2]+\"%]\"+\", and \"+get_port_name(percent_src_ports.keys()[3])+\"[\"+'%.2f' % percent_src_ports.values[3]+\"%]\"+\\\n",
    "                                                \"; to target \"+get_port_name(percent_dst_ports.keys()[0])+\"[\"+'%.1f' % percent_dst_ports.values[0]+\"%]\"\n",
    "\n",
    "        ####\n",
    "        # Testing HTTP request \n",
    "        if len(http_data)>0 and ((percent_dst_ports.index[0]==80) or (percent_dst_ports.index[0]==443)):\n",
    "            attack_label = attack_label+\"; \"+http_data.index[0]\n",
    "\n",
    "        ####\n",
    "        # Testing TCP flags\n",
    "        if (len(percent_tcp_flags) > 0) and (percent_tcp_flags.values[0]>50):\n",
    "            attack_label =  attack_label+\"; TCP flags: \"+get_tcp_flag_name(percent_tcp_flags.index[0])+\"[\"+'%.1f' % percent_tcp_flags.values[0]+\"%]\"\n",
    "\n",
    "        ####\n",
    "        # IP fragmentation    \n",
    "        if (percent_fragments.values[0] > 0) and (percent_fragments.index[0]==1):\n",
    "            attack_label = attack_label + \"; involving IP fragmentation\"\n",
    "\n",
    "        ####\n",
    "        # IP spoofing (if (more than 0) src IPs had the variation of the ttl higher than a treshold)\n",
    "        if (ttl_variations[::-1].values[0] > 0) and (ttl_variations[::-1].index[0] >= ttl_variation_threshold):\n",
    "            attack_label= attack_label+\"; (likely involving) spoofed IPs\"\n",
    "        else:\n",
    "        ####\n",
    "        # Reflection and Amplification    \n",
    "            if percent_src_ports.values[0]>=1:\n",
    "                attack_label= attack_label+\"; Reflection & Amplification\"\n",
    "\n",
    "        \n",
    "        if debug: print(attack_label)\n",
    "        traffic_patterns.insert( i, attack_label)\n",
    "        \n",
    "        merged=df_filtered.merge(df_pattern, indicator=True, how='outer')\n",
    "        df_filtered=merged[merged['_merge'] == 'left_only']\n",
    "        df_filtered.drop('_merge', axis=1, inplace=True)\n",
    "        \n",
    "        i=i+1"
   ]
  },
  {
   "cell_type": "code",
   "execution_count": 9,
   "metadata": {
    "collapsed": false
   },
   "outputs": [
    {
     "name": "stdout",
     "output_type": "stream",
     "text": [
      "../TITAN/TITAN-ESSYN-S-01_2014-12-22_22_33_09.pcap; In 99.99% of packets targeting 172.31.28.132; UDP-based attack; involving 88 IP(s); using DNS service port; to target a set of (65438) ports, such as port 5191[0.00%]; port 17947[0.00%], and port 16355[0.00%]; Reflection & Amplification\n",
      "../TITAN/TITAN-ESSYN-S-01_2014-12-22_22_33_09.pcap; In 0.01% of packets targeting 172.31.28.132; UDP-based attack; involving 1 IP(s); using port 3115; to target a set of (2) ports, such as port 35507[50.00%] and port 15263[50.00%]; Reflection & Amplification\n"
     ]
    }
   ],
   "source": [
    "print '\\n'.join(map(str, traffic_patterns))"
   ]
  },
  {
   "cell_type": "code",
   "execution_count": 39,
   "metadata": {
    "collapsed": false
   },
   "outputs": [
    {
     "data": {
      "text/plain": [
       "0"
      ]
     },
     "execution_count": 39,
     "metadata": {},
     "output_type": "execute_result"
    }
   ],
   "source": [
    "####\n",
    "#Just a message\n",
    "os.system('say \"Done!\"')"
   ]
  },
  {
   "cell_type": "code",
   "execution_count": 45,
   "metadata": {
    "collapsed": false
   },
   "outputs": [
    {
     "name": "stdout",
     "output_type": "stream",
     "text": [
      "('../attacks/ANON/ANON-XML-S-01_2014-12-29_09_12_44.pcap', 100, '-1', 7662859, 1.4982590675354004, 0.0676579475402832)\n"
     ]
    }
   ],
   "source": [
    "print(  input_file,\\\n",
    "        threshold,\n",
    "        attack_case,\\\n",
    "        raw_input_size,\\\n",
    "        conversion_time,\\\n",
    "        loading_time,) if debug else next"
   ]
  },
  {
   "cell_type": "code",
   "execution_count": null,
   "metadata": {
    "collapsed": true
   },
   "outputs": [],
   "source": []
  }
 ],
 "metadata": {
  "kernelspec": {
   "display_name": "Python 2",
   "language": "python",
   "name": "python2"
  },
  "language_info": {
   "codemirror_mode": {
    "name": "ipython",
    "version": 2
   },
   "file_extension": ".py",
   "mimetype": "text/x-python",
   "name": "python",
   "nbconvert_exporter": "python",
   "pygments_lexer": "ipython2",
   "version": "2.7.12"
  },
  "widgets": {
   "state": {},
   "version": "1.1.2"
  }
 },
 "nbformat": 4,
 "nbformat_minor": 0
}
